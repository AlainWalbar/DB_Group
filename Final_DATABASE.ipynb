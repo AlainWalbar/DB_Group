{
  "nbformat": 4,
  "nbformat_minor": 0,
  "metadata": {
    "colab": {
      "provenance": [],
      "include_colab_link": true
    },
    "kernelspec": {
      "name": "python3",
      "display_name": "Python 3"
    },
    "language_info": {
      "name": "python"
    }
  },
  "cells": [
    {
      "cell_type": "markdown",
      "metadata": {
        "id": "view-in-github",
        "colab_type": "text"
      },
      "source": [
        "<a href=\"https://colab.research.google.com/github/maeliech/DB_Group/blob/main/Final_DATABASE.ipynb\" target=\"_parent\"><img src=\"https://colab.research.google.com/assets/colab-badge.svg\" alt=\"Open In Colab\"/></a>"
      ]
    },
    {
      "cell_type": "code",
      "source": [
        "from sqlalchemy import create_engine\n",
        "my_conn = create_engine('sqlite:////content/final.db')"
      ],
      "metadata": {
        "id": "q8N-3U3Y7ZHw"
      },
      "execution_count": null,
      "outputs": []
    },
    {
      "cell_type": "markdown",
      "source": [
        "# **BILLING_DETAIL**"
      ],
      "metadata": {
        "id": "9goCaFH97ucp"
      }
    },
    {
      "cell_type": "code",
      "execution_count": null,
      "metadata": {
        "id": "4kWcq01Z6wGv"
      },
      "outputs": [],
      "source": [
        "r_set=my_conn.execute('''\n",
        "CREATE TABLE IF NOT EXISTS 'billing_detail' (\n",
        "    'id'              INTEGER NOT NULL,\n",
        "    'ammount'         NUMBER(2),\n",
        "    'description'     CLOB,\n",
        "    'licence_bill_id' INTEGER NOT NULL,\n",
        "    PRIMARY KEY       ('id'),\n",
        "    FOREIGN KEY ('licence_bill_id') REFERENCES licence_bill ('id')\n",
        ");\n",
        "''')"
      ]
    },
    {
      "cell_type": "markdown",
      "source": [
        "# **CLIENT**"
      ],
      "metadata": {
        "id": "h-jrMODs72u9"
      }
    },
    {
      "cell_type": "code",
      "source": [
        "r_set=my_conn.execute('''\n",
        "CREATE TABLE IF NOT EXISTS 'client'  (\n",
        "    'id'                        INTEGER NOT NULL,\n",
        "    'name'                      VARCHAR2(120),\n",
        "    'address'                   VARCHAR2(255),\n",
        "    'client_marketing_stage_id' INTEGER NOT NULL,\n",
        "    'country_id'                INTEGER NOT NULL,\n",
        "    'language_id'               INTEGER NOT NULL,\n",
        "    PRIMARY KEY                 ('id'),\n",
        "    FOREIGN KEY                 ('client_marketing_stage_id') REFERENCES 'client_marketing_stage' ('id'),\n",
        "    FOREIGN KEY                 ('country_id') REFERENCES 'country' ('id'),\n",
        "    FOREIGN KEY                 ('language_id') REFERENCES 'language' ('id')\n",
        ");\n",
        "''')"
      ],
      "metadata": {
        "id": "0LxXa9Jr7V3y"
      },
      "execution_count": null,
      "outputs": []
    },
    {
      "cell_type": "markdown",
      "source": [
        "# **CLIENT_MARKETING_STAGE**"
      ],
      "metadata": {
        "id": "U_WZsN0t7-hg"
      }
    },
    {
      "cell_type": "code",
      "source": [
        "r_set=my_conn.execute('''\n",
        "CREATE TABLE IF NOT EXISTS 'client_marketing_stage' (\n",
        "    'id'        INTEGER NOT NULL,\n",
        "    'name'      VARCHAR2(20),\n",
        "    PRIMARY KEY ('id')\n",
        ");\n",
        "''')"
      ],
      "metadata": {
        "id": "UAF3XQKy8LSs"
      },
      "execution_count": null,
      "outputs": []
    },
    {
      "cell_type": "markdown",
      "source": [
        "# **CLIENT_TAG**"
      ],
      "metadata": {
        "id": "zKk9ZArh9pew"
      }
    },
    {
      "cell_type": "code",
      "source": [
        "r_set=my_conn.execute('''\n",
        "CREATE TABLE IF NOT EXISTS 'client_tags' (\n",
        "    'client_id' INTEGER NOT NULL,\n",
        "    'tags_id'   INTEGER NOT NULL,\n",
        "    FOREIGN KEY ('client_id') REFERENCES 'client' ('id'),\n",
        "    FOREIGN KEY ('tags_id') REFERENCES 'tags' ('id')\n",
        ");\n",
        "''')"
      ],
      "metadata": {
        "id": "fiWWV4At8RAy"
      },
      "execution_count": null,
      "outputs": []
    },
    {
      "cell_type": "markdown",
      "source": [
        "# **CONTACT**"
      ],
      "metadata": {
        "id": "uv21QvkN-AXA"
      }
    },
    {
      "cell_type": "code",
      "source": [
        "r_set=my_conn.execute('''\n",
        "CREATE TABLE IF NOT EXISTS 'contact' (\n",
        "    'id'          INTEGER NOT NULL,\n",
        "    'name'        VARCHAR2(20),\n",
        "    'role'        VARCHAR2(50),\n",
        "    'client_id'   INTEGER NOT NULL,\n",
        "    'language_id' INTEGER NOT NULL,\n",
        "    PRIMARY KEY   ('id'),\n",
        "    FOREIGN KEY   ('client_id') REFERENCES 'client' ('id'),\n",
        "    FOREIGN KEY   ('language_id') REFERENCES 'language' ('id')\n",
        ");\n",
        "''')"
      ],
      "metadata": {
        "id": "1aBbrB799vBA"
      },
      "execution_count": null,
      "outputs": []
    },
    {
      "cell_type": "markdown",
      "source": [
        "# **COUNTRY**"
      ],
      "metadata": {
        "id": "-8WJK_-1-Ceu"
      }
    },
    {
      "cell_type": "code",
      "source": [
        "r_set=my_conn.execute('''\n",
        "CREATE TABLE IF NOT EXISTS 'country' (\n",
        "    'id'          INTEGER NOT NULL,\n",
        "    'name'        VARCHAR2(20),\n",
        "    'language_id' INTEGER NOT NULL,\n",
        "    PRIMARY KEY   ('id'),\n",
        "    FOREIGN KEY   ('language_id') REFERENCES 'language' ('id')\n",
        ");\n",
        "''')"
      ],
      "metadata": {
        "id": "MvATdtlc9vQq"
      },
      "execution_count": null,
      "outputs": []
    },
    {
      "cell_type": "markdown",
      "source": [
        "# **EVENT_TYPE**"
      ],
      "metadata": {
        "id": "Sf4AgYjS-1Hq"
      }
    },
    {
      "cell_type": "code",
      "source": [
        "r_set=my_conn.execute('''\n",
        "CREATE TABLE IF NOT EXISTS 'event_type' (\n",
        "    'id'          INTEGER NOT NULL,\n",
        "    'name'        VARCHAR2(20),\n",
        "    PRIMARY KEY   ('id')\n",
        ");\n",
        "''')"
      ],
      "metadata": {
        "id": "3KaP_ADC9vTn"
      },
      "execution_count": null,
      "outputs": []
    },
    {
      "cell_type": "markdown",
      "source": [
        "# **EVENTS**"
      ],
      "metadata": {
        "id": "pVfzl604_H9h"
      }
    },
    {
      "cell_type": "code",
      "source": [
        "r_set=my_conn.execute('''\n",
        "CREATE TABLE IF NOT EXISTS 'events' (\n",
        "    'id'            INTEGER NOT NULL,\n",
        "    'description'   CLOB,\n",
        "    \"START\"         DATE,\n",
        "    'end'           DATE,\n",
        "    'contact_id'    INTEGER NOT NULL,\n",
        "    'user_id'       INTEGER NOT NULL,\n",
        "    'event_type_id' INTEGER NOT NULL,\n",
        "    PRIMARY KEY     ('id'),\n",
        "    FOREIGN KEY     ('contact_id') REFERENCES 'contact' ('id'),\n",
        "    FOREIGN KEY     ('user_id') REFERENCES 'user' ('id'),\n",
        "    FOREIGN KEY     ('event_type_id') REFERENCES 'event_type' ('id')\n",
        ");\n",
        "''')"
      ],
      "metadata": {
        "id": "xwIX7GnX9vWk"
      },
      "execution_count": null,
      "outputs": []
    },
    {
      "cell_type": "markdown",
      "source": [
        "# **LANGUAGE**"
      ],
      "metadata": {
        "id": "f0MIXsL1_oWV"
      }
    },
    {
      "cell_type": "code",
      "source": [
        "r_set=my_conn.execute('''\n",
        "CREATE TABLE IF NOT EXISTS 'language' (\n",
        "    'id'            INTEGER NOT NULL,\n",
        "    'name'          VARCHAR2(20),\n",
        "    PRIMARY KEY     ('id')\n",
        ");\n",
        "''')"
      ],
      "metadata": {
        "id": "28I-aCs-9vY8"
      },
      "execution_count": null,
      "outputs": []
    },
    {
      "cell_type": "markdown",
      "source": [
        "# **LICENCE_BILL**"
      ],
      "metadata": {
        "id": "sHVH4bYd_saz"
      }
    },
    {
      "cell_type": "code",
      "source": [
        "r_set=my_conn.execute('''\n",
        "CREATE TABLE IF NOT EXISTS 'licence_bill' (\n",
        "    'id'                       INTEGER NOT NULL,\n",
        "    \"START\"                    DATE,\n",
        "    'end'                      DATE,\n",
        "    'billing_amount'           NUMBER(2),\n",
        "    'previous_billing_ammount' NUMBER(2),\n",
        "    'ispaid'                   CHAR(1),\n",
        "    'licence_folder_id'        INTEGER NOT NULL,\n",
        "    'currency'                 VARCHAR2(20),\n",
        "    PRIMARY KEY                ('id'),\n",
        "    FOREIGN KEY                ('licence_folder_id') REFERENCES 'licence_folder' ('id')\n",
        ");\n",
        "''')"
      ],
      "metadata": {
        "id": "gwo4QyAx9vmK"
      },
      "execution_count": null,
      "outputs": []
    },
    {
      "cell_type": "markdown",
      "source": [
        "# **LICENCE_FOLDER**"
      ],
      "metadata": {
        "id": "T3R5-xT8Ar1q"
      }
    },
    {
      "cell_type": "code",
      "source": [
        "r_set=my_conn.execute('''\n",
        "CREATE TABLE IF NOT EXISTS 'licence_folder' (\n",
        "    'id'                INTEGER NOT NULL,\n",
        "    'billing_quarter'   VARCHAR2(20),\n",
        "    'billing_frequency' INTEGER,\n",
        "    'client_id'         INTEGER NOT NULL,\n",
        "    'software_id'       INTEGER NOT NULL,\n",
        "    PRIMARY KEY         ('id'),\n",
        "    FOREIGN KEY         ('client_id') REFERENCES 'client' ('id'),\n",
        "    FOREIGN KEY         ('software_id') REFERENCES 'software' ('id')\n",
        ");\n",
        "''')"
      ],
      "metadata": {
        "id": "GXOqoglFAHfx"
      },
      "execution_count": null,
      "outputs": []
    },
    {
      "cell_type": "markdown",
      "source": [
        "# **SOFTWARE**"
      ],
      "metadata": {
        "id": "aOcqYfOiA0Eh"
      }
    },
    {
      "cell_type": "code",
      "source": [
        "r_set=my_conn.execute('''\n",
        "CREATE TABLE IF NOT EXISTS 'software' (\n",
        "    'id'          INTEGER NOT NULL,\n",
        "    'name'        VARCHAR2(20),\n",
        "    'isonmarket'  CHAR(1),\n",
        "    PRIMARY KEY   ('id')\n",
        ");\n",
        "''')"
      ],
      "metadata": {
        "id": "SLahnQjoAHiu"
      },
      "execution_count": null,
      "outputs": []
    },
    {
      "cell_type": "markdown",
      "source": [
        "# **TAGS**"
      ],
      "metadata": {
        "id": "oDxYtPLcBV25"
      }
    },
    {
      "cell_type": "code",
      "source": [
        "r_set=my_conn.execute('''\n",
        "CREATE TABLE IF NOT EXISTS 'tags' (\n",
        "    'id'          INTEGER NOT NULL,\n",
        "    'name'        VARCHAR2(255),\n",
        "    PRIMARY KEY   ('id')\n",
        ");\n",
        "''')"
      ],
      "metadata": {
        "id": "Hl9Ygu5XAHlF"
      },
      "execution_count": null,
      "outputs": []
    },
    {
      "cell_type": "markdown",
      "source": [
        "# **USER**"
      ],
      "metadata": {
        "id": "N3FiS98mBi3-"
      }
    },
    {
      "cell_type": "code",
      "source": [
        "r_set=my_conn.execute('''\n",
        "CREATE TABLE IF NOT EXISTS \"USER\" (\n",
        "    'id'        INTEGER NOT NULL,\n",
        "    \"NAME \"      VARCHAR2(20),\n",
        "    'login_id'   VARCHAR2(255),\n",
        "    'pass'       VARCHAR2(255),\n",
        "    'department' VARCHAR2(50),\n",
        "    PRIMARY KEY  ('id')\n",
        ");\n",
        "''')"
      ],
      "metadata": {
        "id": "qp6wRkW2AHnd"
      },
      "execution_count": null,
      "outputs": []
    }
  ]
}